{
  "nbformat": 4,
  "nbformat_minor": 0,
  "metadata": {
    "colab": {
      "provenance": [],
      "authorship_tag": "ABX9TyNiZIfTmGr2CaJQk7S20oPy",
      "include_colab_link": true
    },
    "kernelspec": {
      "name": "python3",
      "display_name": "Python 3"
    },
    "language_info": {
      "name": "python"
    }
  },
  "cells": [
    {
      "cell_type": "markdown",
      "metadata": {
        "id": "view-in-github",
        "colab_type": "text"
      },
      "source": [
        "<a href=\"https://colab.research.google.com/github/malooty/malooty/blob/main/astro.ipynb\" target=\"_parent\"><img src=\"https://colab.research.google.com/assets/colab-badge.svg\" alt=\"Open In Colab\"/></a>"
      ]
    },
    {
      "cell_type": "code",
      "execution_count": 1,
      "metadata": {
        "colab": {
          "base_uri": "https://localhost:8080/"
        },
        "id": "HRctWr0JKxGH",
        "outputId": "df7d58c5-1031-409a-e1e0-7e98c7de967a"
      },
      "outputs": [
        {
          "output_type": "stream",
          "name": "stdout",
          "text": [
            "Looking in indexes: https://pypi.org/simple, https://us-python.pkg.dev/colab-wheels/public/simple/\n",
            "Collecting astroML\n",
            "  Downloading astroML-1.0.2.post1-py3-none-any.whl (134 kB)\n",
            "\u001b[K     |████████████████████████████████| 134 kB 2.1 MB/s \n",
            "\u001b[?25hRequirement already satisfied: scipy>=0.18 in /usr/local/lib/python3.7/dist-packages (from astroML) (1.7.3)\n",
            "Requirement already satisfied: astropy>=3.0 in /usr/local/lib/python3.7/dist-packages (from astroML) (4.3.1)\n",
            "Requirement already satisfied: matplotlib>=3.0 in /usr/local/lib/python3.7/dist-packages (from astroML) (3.2.2)\n",
            "Requirement already satisfied: numpy>=1.13 in /usr/local/lib/python3.7/dist-packages (from astroML) (1.21.6)\n",
            "Requirement already satisfied: scikit-learn>=0.18 in /usr/local/lib/python3.7/dist-packages (from astroML) (1.0.2)\n",
            "Requirement already satisfied: pyerfa>=1.7.3 in /usr/local/lib/python3.7/dist-packages (from astropy>=3.0->astroML) (2.0.0.1)\n",
            "Requirement already satisfied: importlib-metadata in /usr/local/lib/python3.7/dist-packages (from astropy>=3.0->astroML) (4.12.0)\n",
            "Requirement already satisfied: python-dateutil>=2.1 in /usr/local/lib/python3.7/dist-packages (from matplotlib>=3.0->astroML) (2.8.2)\n",
            "Requirement already satisfied: kiwisolver>=1.0.1 in /usr/local/lib/python3.7/dist-packages (from matplotlib>=3.0->astroML) (1.4.4)\n",
            "Requirement already satisfied: cycler>=0.10 in /usr/local/lib/python3.7/dist-packages (from matplotlib>=3.0->astroML) (0.11.0)\n",
            "Requirement already satisfied: pyparsing!=2.0.4,!=2.1.2,!=2.1.6,>=2.0.1 in /usr/local/lib/python3.7/dist-packages (from matplotlib>=3.0->astroML) (3.0.9)\n",
            "Requirement already satisfied: typing-extensions in /usr/local/lib/python3.7/dist-packages (from kiwisolver>=1.0.1->matplotlib>=3.0->astroML) (4.1.1)\n",
            "Requirement already satisfied: six>=1.5 in /usr/local/lib/python3.7/dist-packages (from python-dateutil>=2.1->matplotlib>=3.0->astroML) (1.15.0)\n",
            "Requirement already satisfied: joblib>=0.11 in /usr/local/lib/python3.7/dist-packages (from scikit-learn>=0.18->astroML) (1.1.0)\n",
            "Requirement already satisfied: threadpoolctl>=2.0.0 in /usr/local/lib/python3.7/dist-packages (from scikit-learn>=0.18->astroML) (3.1.0)\n",
            "Requirement already satisfied: zipp>=0.5 in /usr/local/lib/python3.7/dist-packages (from importlib-metadata->astropy>=3.0->astroML) (3.8.1)\n",
            "Installing collected packages: astroML\n",
            "Successfully installed astroML-1.0.2.post1\n"
          ]
        }
      ],
      "source": [
        "!pip install astroML"
      ]
    },
    {
      "cell_type": "code",
      "source": [
        "from astropy.visualization import hist\n",
        "from astroML.datasets import fetch_sdss_specgals\n",
        "from astropy.visualization import hist\n",
        "data = fetch_sdss_specgals()\n",
        "data"
      ],
      "metadata": {
        "colab": {
          "base_uri": "https://localhost:8080/"
        },
        "id": "xRrzPgi3K3Nj",
        "outputId": "08137a82-5a87-429b-9e2a-134932202891"
      },
      "execution_count": 3,
      "outputs": [
        {
          "output_type": "execute_result",
          "data": {
            "text/plain": [
              "array([(146.71419105, -1.04127639, 51630, 266,   1, 0.02122228, 9.46538148e-06, 1.5006211, 131.86357,  4.1935244, 0.15192488, 14.841243, 16.591177, 0.01465266, 17.150417, 0.01122162, 15.497092, 0.00265413, 14.674012, 0.00226598, 14.234288, 0.00226491, 13.907544, 0.00359701, 3.2909405,  9.531493 , 224.11356  , 8.453454 , 472.5904   , 10.049169 , 68.39606  , 6.6106386, 119.49564  , 6.6502748, 23.382048  , 6.4335184, 1.8645095, 0.01444629,  3, 10.294713, -0.5273424 , 1237648720142401611, 299489677444933632),\n",
              "       (146.74414186, -0.6522198 , 51630, 266,   2, 0.20378332, 3.89048037e-05, 1.3029457, 174.16476, 13.752029 , 0.23067077, 17.788576, 18.9321  , 0.01302888, 21.334766, 0.23458508, 19.1311  , 0.01685353, 17.710718, 0.00815914, 17.149128, 0.0069665 , 16.756086, 0.01552183, 1.9756857,  6.0218143,  -2.4305305, 1.858887 ,   3.4172215,  1.6959478,  5.1728916, 1.9730024,   6.602319 , 2.697799 ,  1.2212139 , 2.1021197, 2.1578927, 0.0547132 , -1, 11.365371, -0.77233875, 1237650795146510627, 299489952322840576),\n",
              "       (146.62857334, -0.7651468 , 51630, 266,   4, 0.06465632, 2.06620007e-05, 1.2276295, 123.03633,  9.821034 , 0.20489635, 16.83194 , 18.155624, 0.01254372, 19.50913 , 0.05601746, 17.592752, 0.00642711, 16.673574, 0.00475108, 16.205244, 0.00437476, 15.83744 , 0.00890484, 2.259202 ,  6.6126304,  51.591553 , 3.1555784,  99.400055 ,  3.4481432, 21.444366 , 3.3029692,  25.640467 , 2.9068384,  6.669699  , 3.5812078, 1.7987161, 0.03000483,  3, 10.565862, -1.1552297 , 1237650795146445031, 299490502078654464),\n",
              "       ...,\n",
              "       (180.25110427, -1.38946515, 52368, 331, 444, 0.03541545, 1.04244755e-05, 1.1725874,  67.32305,  8.629884 , 0.09222353, 16.651764, 18.025562, 0.01496548, 18.842731, 0.03525879, 17.192287, 0.00520123, 16.454424, 0.00437394, 16.052216, 0.00459758, 15.770179, 0.01032707, 2.2395372,  6.082692 , 213.73157  , 4.0686245, 358.8263   ,  5.296287 , 28.706652 , 2.9805677,  68.93299  , 3.1902218, 15.672132  , 3.2845337, 1.5616258, 0.02223964,  3,  9.948011, -0.84107006, 1237650372092690555, 372794954684065792),\n",
              "       (180.21081579, -1.46544042, 52368, 331, 446, 0.26692075, 1.11513524e-04, 1.0174959, 137.46594, 37.345886 , 0.08889276, 17.856642, 20.130053, 0.0608926 , 22.760687, 3.6393158 , 18.909822, 0.04652237, 17.36745 , 0.01882395, 16.827072, 0.01879769, 16.571342, 0.05618093, 6.0687833, 12.223357 ,  -1.0759141, 3.4442744,   3.2219574,  5.432932 ,  1.414287 , 1.3098338,   3.6016657, 2.3329222,  5.573065  , 2.3954139, 2.064437 , 0.12950905, -1, 11.796665, -0.43023166, 1237650762927505634, 372795504439879680),\n",
              "       (180.20743019, -1.33219996, 52368, 331, 448, 0.25441918, 4.96192952e-05, 1.027885 , 151.10892, 19.94321  , 0.08680892, 17.842834, 19.527552, 0.02050972, 20.208609, 0.14433774, 18.725801, 0.01817986, 17.528614, 0.0108467 , 17.019371, 0.01100483, 16.701334, 0.02872995, 2.94478  ,  6.9011097,  19.266405 , 3.4690647,  36.31319  ,  4.1026196,  7.2884555, 2.151293 ,   8.406925 , 2.3361409, -0.29019323, 2.2569814, 1.7233226, 0.04478883,  2, 11.43754 ,  0.8238183 , 1237650372092625185, 372796054195693568)],\n",
              "      dtype=[('ra', '<f8'), ('dec', '<f8'), ('mjd', '<i4'), ('plate', '<i2'), ('fiberID', '<i2'), ('z', '<f4'), ('zErr', '<f4'), ('rChi2', '<f4'), ('velDisp', '<f4'), ('velDispErr', '<f4'), ('extinction_r', '<f4'), ('petroMag_r', '<f4'), ('psfMag_r', '<f4'), ('psfMagErr_r', '<f4'), ('modelMag_u', '<f4'), ('modelMagErr_u', '<f4'), ('modelMag_g', '<f4'), ('modelMagErr_g', '<f4'), ('modelMag_r', '<f4'), ('modelMagErr_r', '<f4'), ('modelMag_i', '<f4'), ('modelMagErr_i', '<f4'), ('modelMag_z', '<f4'), ('modelMagErr_z', '<f4'), ('petroR50_r', '<f4'), ('petroR90_r', '<f4'), ('nii_6584_flux', '<f4'), ('nii_6584_flux_err', '<f4'), ('h_alpha_flux', '<f4'), ('h_alpha_flux_err', '<f4'), ('oiii_5007_flux', '<f4'), ('oiii_5007_flux_err', '<f4'), ('h_beta_flux', '<f4'), ('h_beta_flux_err', '<f4'), ('h_delta_flux', '<f4'), ('h_delta_flux_err', '<f4'), ('d4000', '<f4'), ('d4000_err', '<f4'), ('bptclass', '<i2'), ('lgm_tot_p50', '<f4'), ('sfr_tot_p50', '<f4'), ('objID', '<i8'), ('specObjID', '<i8')])"
            ]
          },
          "metadata": {},
          "execution_count": 3
        }
      ]
    },
    {
      "cell_type": "code",
      "source": [
        "import pandas as pd\n",
        "data1 = pd.DataFrame(data)"
      ],
      "metadata": {
        "id": "NldZnim6K_Y_"
      },
      "execution_count": 4,
      "outputs": []
    },
    {
      "cell_type": "code",
      "source": [
        "data1.head()"
      ],
      "metadata": {
        "colab": {
          "base_uri": "https://localhost:8080/",
          "height": 299
        },
        "id": "mwxEGNVMLUhA",
        "outputId": "7107c97d-88b9-46bc-f8aa-48fb40d1228f"
      },
      "execution_count": 5,
      "outputs": [
        {
          "output_type": "execute_result",
          "data": {
            "text/plain": [
              "           ra       dec    mjd  plate  fiberID         z      zErr     rChi2  \\\n",
              "0  146.714191 -1.041276  51630    266        1  0.021222  0.000009  1.500621   \n",
              "1  146.744142 -0.652220  51630    266        2  0.203783  0.000039  1.302946   \n",
              "2  146.628573 -0.765147  51630    266        4  0.064656  0.000021  1.227630   \n",
              "3  146.631673 -0.988261  51630    266        6  0.052654  0.000009  1.404003   \n",
              "4  146.919416 -0.990517  51630    266        7  0.213861  0.000040  1.332148   \n",
              "\n",
              "      velDisp  velDispErr  ...  h_beta_flux_err  h_delta_flux  \\\n",
              "0  131.863571    4.193524  ...         6.650275     23.382048   \n",
              "1  174.164764   13.752029  ...         2.697799      1.221214   \n",
              "2  123.036331    9.821034  ...         2.906838      6.669699   \n",
              "3   41.803913   24.241034  ...         2.279489     11.307991   \n",
              "4  143.521133   14.563519  ...         2.622802      0.239994   \n",
              "\n",
              "   h_delta_flux_err     d4000  d4000_err  bptclass  lgm_tot_p50  sfr_tot_p50  \\\n",
              "0          6.433518  1.864509   0.014446         3    10.294713    -0.527342   \n",
              "1          2.102120  2.157893   0.054713        -1    11.365371    -0.772339   \n",
              "2          3.581208  1.798716   0.030005         3    10.565862    -1.155230   \n",
              "3          3.058364  1.388878   0.033203         1     9.363875    -0.411009   \n",
              "4          2.116302  1.923569   0.047452        -1    11.161670    -0.350026   \n",
              "\n",
              "                 objID           specObjID  \n",
              "0  1237648720142401611  299489677444933632  \n",
              "1  1237650795146510627  299489952322840576  \n",
              "2  1237650795146445031  299490502078654464  \n",
              "3  1237648720142401670  299491051834468352  \n",
              "4  1237648720142532891  299491326712375296  \n",
              "\n",
              "[5 rows x 43 columns]"
            ],
            "text/html": [
              "\n",
              "  <div id=\"df-7c2f2d8d-396b-4460-8898-a256bc34f303\">\n",
              "    <div class=\"colab-df-container\">\n",
              "      <div>\n",
              "<style scoped>\n",
              "    .dataframe tbody tr th:only-of-type {\n",
              "        vertical-align: middle;\n",
              "    }\n",
              "\n",
              "    .dataframe tbody tr th {\n",
              "        vertical-align: top;\n",
              "    }\n",
              "\n",
              "    .dataframe thead th {\n",
              "        text-align: right;\n",
              "    }\n",
              "</style>\n",
              "<table border=\"1\" class=\"dataframe\">\n",
              "  <thead>\n",
              "    <tr style=\"text-align: right;\">\n",
              "      <th></th>\n",
              "      <th>ra</th>\n",
              "      <th>dec</th>\n",
              "      <th>mjd</th>\n",
              "      <th>plate</th>\n",
              "      <th>fiberID</th>\n",
              "      <th>z</th>\n",
              "      <th>zErr</th>\n",
              "      <th>rChi2</th>\n",
              "      <th>velDisp</th>\n",
              "      <th>velDispErr</th>\n",
              "      <th>...</th>\n",
              "      <th>h_beta_flux_err</th>\n",
              "      <th>h_delta_flux</th>\n",
              "      <th>h_delta_flux_err</th>\n",
              "      <th>d4000</th>\n",
              "      <th>d4000_err</th>\n",
              "      <th>bptclass</th>\n",
              "      <th>lgm_tot_p50</th>\n",
              "      <th>sfr_tot_p50</th>\n",
              "      <th>objID</th>\n",
              "      <th>specObjID</th>\n",
              "    </tr>\n",
              "  </thead>\n",
              "  <tbody>\n",
              "    <tr>\n",
              "      <th>0</th>\n",
              "      <td>146.714191</td>\n",
              "      <td>-1.041276</td>\n",
              "      <td>51630</td>\n",
              "      <td>266</td>\n",
              "      <td>1</td>\n",
              "      <td>0.021222</td>\n",
              "      <td>0.000009</td>\n",
              "      <td>1.500621</td>\n",
              "      <td>131.863571</td>\n",
              "      <td>4.193524</td>\n",
              "      <td>...</td>\n",
              "      <td>6.650275</td>\n",
              "      <td>23.382048</td>\n",
              "      <td>6.433518</td>\n",
              "      <td>1.864509</td>\n",
              "      <td>0.014446</td>\n",
              "      <td>3</td>\n",
              "      <td>10.294713</td>\n",
              "      <td>-0.527342</td>\n",
              "      <td>1237648720142401611</td>\n",
              "      <td>299489677444933632</td>\n",
              "    </tr>\n",
              "    <tr>\n",
              "      <th>1</th>\n",
              "      <td>146.744142</td>\n",
              "      <td>-0.652220</td>\n",
              "      <td>51630</td>\n",
              "      <td>266</td>\n",
              "      <td>2</td>\n",
              "      <td>0.203783</td>\n",
              "      <td>0.000039</td>\n",
              "      <td>1.302946</td>\n",
              "      <td>174.164764</td>\n",
              "      <td>13.752029</td>\n",
              "      <td>...</td>\n",
              "      <td>2.697799</td>\n",
              "      <td>1.221214</td>\n",
              "      <td>2.102120</td>\n",
              "      <td>2.157893</td>\n",
              "      <td>0.054713</td>\n",
              "      <td>-1</td>\n",
              "      <td>11.365371</td>\n",
              "      <td>-0.772339</td>\n",
              "      <td>1237650795146510627</td>\n",
              "      <td>299489952322840576</td>\n",
              "    </tr>\n",
              "    <tr>\n",
              "      <th>2</th>\n",
              "      <td>146.628573</td>\n",
              "      <td>-0.765147</td>\n",
              "      <td>51630</td>\n",
              "      <td>266</td>\n",
              "      <td>4</td>\n",
              "      <td>0.064656</td>\n",
              "      <td>0.000021</td>\n",
              "      <td>1.227630</td>\n",
              "      <td>123.036331</td>\n",
              "      <td>9.821034</td>\n",
              "      <td>...</td>\n",
              "      <td>2.906838</td>\n",
              "      <td>6.669699</td>\n",
              "      <td>3.581208</td>\n",
              "      <td>1.798716</td>\n",
              "      <td>0.030005</td>\n",
              "      <td>3</td>\n",
              "      <td>10.565862</td>\n",
              "      <td>-1.155230</td>\n",
              "      <td>1237650795146445031</td>\n",
              "      <td>299490502078654464</td>\n",
              "    </tr>\n",
              "    <tr>\n",
              "      <th>3</th>\n",
              "      <td>146.631673</td>\n",
              "      <td>-0.988261</td>\n",
              "      <td>51630</td>\n",
              "      <td>266</td>\n",
              "      <td>6</td>\n",
              "      <td>0.052654</td>\n",
              "      <td>0.000009</td>\n",
              "      <td>1.404003</td>\n",
              "      <td>41.803913</td>\n",
              "      <td>24.241034</td>\n",
              "      <td>...</td>\n",
              "      <td>2.279489</td>\n",
              "      <td>11.307991</td>\n",
              "      <td>3.058364</td>\n",
              "      <td>1.388878</td>\n",
              "      <td>0.033203</td>\n",
              "      <td>1</td>\n",
              "      <td>9.363875</td>\n",
              "      <td>-0.411009</td>\n",
              "      <td>1237648720142401670</td>\n",
              "      <td>299491051834468352</td>\n",
              "    </tr>\n",
              "    <tr>\n",
              "      <th>4</th>\n",
              "      <td>146.919416</td>\n",
              "      <td>-0.990517</td>\n",
              "      <td>51630</td>\n",
              "      <td>266</td>\n",
              "      <td>7</td>\n",
              "      <td>0.213861</td>\n",
              "      <td>0.000040</td>\n",
              "      <td>1.332148</td>\n",
              "      <td>143.521133</td>\n",
              "      <td>14.563519</td>\n",
              "      <td>...</td>\n",
              "      <td>2.622802</td>\n",
              "      <td>0.239994</td>\n",
              "      <td>2.116302</td>\n",
              "      <td>1.923569</td>\n",
              "      <td>0.047452</td>\n",
              "      <td>-1</td>\n",
              "      <td>11.161670</td>\n",
              "      <td>-0.350026</td>\n",
              "      <td>1237648720142532891</td>\n",
              "      <td>299491326712375296</td>\n",
              "    </tr>\n",
              "  </tbody>\n",
              "</table>\n",
              "<p>5 rows × 43 columns</p>\n",
              "</div>\n",
              "      <button class=\"colab-df-convert\" onclick=\"convertToInteractive('df-7c2f2d8d-396b-4460-8898-a256bc34f303')\"\n",
              "              title=\"Convert this dataframe to an interactive table.\"\n",
              "              style=\"display:none;\">\n",
              "        \n",
              "  <svg xmlns=\"http://www.w3.org/2000/svg\" height=\"24px\"viewBox=\"0 0 24 24\"\n",
              "       width=\"24px\">\n",
              "    <path d=\"M0 0h24v24H0V0z\" fill=\"none\"/>\n",
              "    <path d=\"M18.56 5.44l.94 2.06.94-2.06 2.06-.94-2.06-.94-.94-2.06-.94 2.06-2.06.94zm-11 1L8.5 8.5l.94-2.06 2.06-.94-2.06-.94L8.5 2.5l-.94 2.06-2.06.94zm10 10l.94 2.06.94-2.06 2.06-.94-2.06-.94-.94-2.06-.94 2.06-2.06.94z\"/><path d=\"M17.41 7.96l-1.37-1.37c-.4-.4-.92-.59-1.43-.59-.52 0-1.04.2-1.43.59L10.3 9.45l-7.72 7.72c-.78.78-.78 2.05 0 2.83L4 21.41c.39.39.9.59 1.41.59.51 0 1.02-.2 1.41-.59l7.78-7.78 2.81-2.81c.8-.78.8-2.07 0-2.86zM5.41 20L4 18.59l7.72-7.72 1.47 1.35L5.41 20z\"/>\n",
              "  </svg>\n",
              "      </button>\n",
              "      \n",
              "  <style>\n",
              "    .colab-df-container {\n",
              "      display:flex;\n",
              "      flex-wrap:wrap;\n",
              "      gap: 12px;\n",
              "    }\n",
              "\n",
              "    .colab-df-convert {\n",
              "      background-color: #E8F0FE;\n",
              "      border: none;\n",
              "      border-radius: 50%;\n",
              "      cursor: pointer;\n",
              "      display: none;\n",
              "      fill: #1967D2;\n",
              "      height: 32px;\n",
              "      padding: 0 0 0 0;\n",
              "      width: 32px;\n",
              "    }\n",
              "\n",
              "    .colab-df-convert:hover {\n",
              "      background-color: #E2EBFA;\n",
              "      box-shadow: 0px 1px 2px rgba(60, 64, 67, 0.3), 0px 1px 3px 1px rgba(60, 64, 67, 0.15);\n",
              "      fill: #174EA6;\n",
              "    }\n",
              "\n",
              "    [theme=dark] .colab-df-convert {\n",
              "      background-color: #3B4455;\n",
              "      fill: #D2E3FC;\n",
              "    }\n",
              "\n",
              "    [theme=dark] .colab-df-convert:hover {\n",
              "      background-color: #434B5C;\n",
              "      box-shadow: 0px 1px 3px 1px rgba(0, 0, 0, 0.15);\n",
              "      filter: drop-shadow(0px 1px 2px rgba(0, 0, 0, 0.3));\n",
              "      fill: #FFFFFF;\n",
              "    }\n",
              "  </style>\n",
              "\n",
              "      <script>\n",
              "        const buttonEl =\n",
              "          document.querySelector('#df-7c2f2d8d-396b-4460-8898-a256bc34f303 button.colab-df-convert');\n",
              "        buttonEl.style.display =\n",
              "          google.colab.kernel.accessAllowed ? 'block' : 'none';\n",
              "\n",
              "        async function convertToInteractive(key) {\n",
              "          const element = document.querySelector('#df-7c2f2d8d-396b-4460-8898-a256bc34f303');\n",
              "          const dataTable =\n",
              "            await google.colab.kernel.invokeFunction('convertToInteractive',\n",
              "                                                     [key], {});\n",
              "          if (!dataTable) return;\n",
              "\n",
              "          const docLinkHtml = 'Like what you see? Visit the ' +\n",
              "            '<a target=\"_blank\" href=https://colab.research.google.com/notebooks/data_table.ipynb>data table notebook</a>'\n",
              "            + ' to learn more about interactive tables.';\n",
              "          element.innerHTML = '';\n",
              "          dataTable['output_type'] = 'display_data';\n",
              "          await google.colab.output.renderOutput(dataTable, element);\n",
              "          const docLink = document.createElement('div');\n",
              "          docLink.innerHTML = docLinkHtml;\n",
              "          element.appendChild(docLink);\n",
              "        }\n",
              "      </script>\n",
              "    </div>\n",
              "  </div>\n",
              "  "
            ]
          },
          "metadata": {},
          "execution_count": 5
        }
      ]
    },
    {
      "cell_type": "code",
      "source": [
        "data1.columns"
      ],
      "metadata": {
        "colab": {
          "base_uri": "https://localhost:8080/"
        },
        "id": "7iSGryXwLcCp",
        "outputId": "18236ab5-b304-43a6-f216-47f5c5909de9"
      },
      "execution_count": 6,
      "outputs": [
        {
          "output_type": "execute_result",
          "data": {
            "text/plain": [
              "Index(['ra', 'dec', 'mjd', 'plate', 'fiberID', 'z', 'zErr', 'rChi2', 'velDisp',\n",
              "       'velDispErr', 'extinction_r', 'petroMag_r', 'psfMag_r', 'psfMagErr_r',\n",
              "       'modelMag_u', 'modelMagErr_u', 'modelMag_g', 'modelMagErr_g',\n",
              "       'modelMag_r', 'modelMagErr_r', 'modelMag_i', 'modelMagErr_i',\n",
              "       'modelMag_z', 'modelMagErr_z', 'petroR50_r', 'petroR90_r',\n",
              "       'nii_6584_flux', 'nii_6584_flux_err', 'h_alpha_flux',\n",
              "       'h_alpha_flux_err', 'oiii_5007_flux', 'oiii_5007_flux_err',\n",
              "       'h_beta_flux', 'h_beta_flux_err', 'h_delta_flux', 'h_delta_flux_err',\n",
              "       'd4000', 'd4000_err', 'bptclass', 'lgm_tot_p50', 'sfr_tot_p50', 'objID',\n",
              "       'specObjID'],\n",
              "      dtype='object')"
            ]
          },
          "metadata": {},
          "execution_count": 6
        }
      ]
    },
    {
      "cell_type": "code",
      "source": [
        "import numpy as np\n",
        "from matplotlib import pyplot as plt\n",
        "hist(data1['z'], bins=200)\n",
        "plt.xlim(0, 0.4)"
      ],
      "metadata": {
        "colab": {
          "base_uri": "https://localhost:8080/",
          "height": 282
        },
        "id": "UuSLvpENLsQn",
        "outputId": "f14b9ec9-69cb-467d-ab85-c8907724026b"
      },
      "execution_count": 8,
      "outputs": [
        {
          "output_type": "execute_result",
          "data": {
            "text/plain": [
              "(0.0, 0.4)"
            ]
          },
          "metadata": {},
          "execution_count": 8
        },
        {
          "output_type": "display_data",
          "data": {
            "text/plain": [
              "<Figure size 432x288 with 1 Axes>"
            ],
            "image/png": "[encoded data removed]"
          },
          "metadata": {
            "needs_background": "light"
          }
        }
      ]
    },
    {
      "cell_type": "code",
      "source": [
        "from astroML.datasets import fetch_sdss_spectrum\n",
        "\n",
        "# Fetch single spectrum\n",
        "plate = 1615\n",
        "mjd = 53166\n",
        "fiber = 1\n",
        "\n",
        "spec = fetch_sdss_spectrum(plate, mjd, fiber)\n",
        "\n",
        "#------------------------------------------------------------\n",
        "# Plot the resulting spectrum\n",
        "ax = plt.axes()\n",
        "ax.plot(spec.wavelength(), spec.spectrum, '-k', label='spectrum')\n",
        "ax.plot(spec.wavelength(), spec.error, '-', color='gray', label='error')\n",
        "\n",
        "ax.legend(loc=4)\n",
        "\n",
        "ax.set_title('Plate = %(plate)i, MJD = %(mjd)i, Fiber = %(fiber)i' % locals())\n",
        "\n",
        "ax.text(0.05, 0.95, 'z = %.2f' % spec.z, size=16,\n",
        "        ha='left', va='top', transform=ax.transAxes)\n",
        "\n",
        "ax.set_xlabel(r'$\\lambda (\\AA)$')\n",
        "ax.set_ylabel('Flux')\n",
        "\n",
        "ax.set_ylim(-10, 300)\n",
        "\n",
        "plt.show()"
      ],
      "metadata": {
        "colab": {
          "base_uri": "https://localhost:8080/",
          "height": 352
        },
        "id": "afDRZN5lNrVx",
        "outputId": "7b8eb972-d1d2-4282-a523-eb5196ab4b8a"
      },
      "execution_count": 11,
      "outputs": [
        {
          "output_type": "stream",
          "name": "stdout",
          "text": [
            "Downloading http://das.sdss.org/spectro/1d_26/1615/1d/spSpec-53166-1615-001.fit\n",
            "\n",
            "caching to /root/astroML_data/SDSSspec/1615/spSpec-53166-1615-001.fit\n"
          ]
        },
        {
          "output_type": "display_data",
          "data": {
            "text/plain": [
              "<Figure size 432x288 with 1 Axes>"
            ],
            "image/png": "[encoded data removed]"
          },
          "metadata": {
            "needs_background": "light"
          }
        }
      ]
    },
    {
      "cell_type": "code",
      "source": [],
      "metadata": {
        "id": "bTqdIo2RO_XB"
      },
      "execution_count": null,
      "outputs": []
    }
  ]
}